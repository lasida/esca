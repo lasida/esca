{
 "cells": [
  {
   "cell_type": "code",
   "execution_count": 35,
   "metadata": {},
   "outputs": [],
   "source": [
    "#create DB and collection\n",
    "\n",
    "import pymongo\n",
    "MONGO_HOST = \"11a.mongo.evennode.com\" \n",
    "MONGO_DB = \"9c0e953160386036a66c8ea292c47177\"\n",
    "MONGO_USER = \"9c0e953160386036a66c8ea292c47177\"\n",
    "MONGO_PASS = \"lasida123\"\n",
    "\n",
    "# mongo_client = pymongo.MongoClient(MONGO_HOST, 27018, username=MONGO_DB, password=MONGO_PASS)\n",
    "# mongo_db = mongo_client['9c0e953160386036a66c8ea292c47177']\n",
    "# devices = mongo_db['devices']\n",
    "\n",
    "connection = MongoClient(\"11a.mongo.evennode.com\", 27018)\n",
    "db = connection['9c0e953160386036a66c8ea292c47177']\n",
    "db.authenticate(\"9c0e953160386036a66c8ea292c47177\", \"lasida123\")\n",
    "devices = db.devices\n",
    "data = { \"chip\" : \"E12345\", \"lat\": \"106.123456\", \"long\": \"-6.123456\", \"batt\": 80, \"vision\" : \"data:image,base64image\" }\n",
    "\n",
    "#updating data\n",
    "# devices.insert_one(data)\n",
    "\n",
    "posts = devices.posts\n",
    "post_id = posts.insert_one(data)"
   ]
  },
  {
   "cell_type": "code",
   "execution_count": 27,
   "metadata": {},
   "outputs": [
    {
     "data": {
      "text/plain": [
       "<pymongo.results.InsertOneResult at 0x1a470d9cec8>"
      ]
     },
     "execution_count": 27,
     "metadata": {},
     "output_type": "execute_result"
    }
   ],
   "source": [
    "#insert data\n",
    "data = { \"chip\" : \"E12345\", \"lat\": \"106.123456\", \"long\": \"-6.123456\", \"batt\": 80, \"vision\" : \"data:image,base64image\" }\n",
    "\n",
    "#updating data\n",
    "devices.insert_one(data)\n",
    "#devices.insert_many(data) , usage:: data=[{},{}]"
   ]
  },
  {
   "cell_type": "code",
   "execution_count": 36,
   "metadata": {},
   "outputs": [
    {
     "data": {
      "text/plain": [
       "<pymongo.results.UpdateResult at 0x269390a9908>"
      ]
     },
     "execution_count": 36,
     "metadata": {},
     "output_type": "execute_result"
    }
   ],
   "source": [
    "#update data\n",
    "devices.update_one( {\"chip\": \"E12345\"} , {\"$set\":{\"batt\":100}})\n",
    "# devices.update_many( {\"chip\": \"E12345\"} , {\"$set\":{\"batt\":100}})\n",
    "# devices.replace_one\n"
   ]
  },
  {
   "cell_type": "code",
   "execution_count": 37,
   "metadata": {},
   "outputs": [
    {
     "data": {
      "text/plain": [
       "<pymongo.results.DeleteResult at 0x269390a0f88>"
      ]
     },
     "execution_count": 37,
     "metadata": {},
     "output_type": "execute_result"
    }
   ],
   "source": [
    "#delete data\n",
    "devices.delete_one({\"chip\": \"E12345\"})\n",
    "#devices.delete_many({\"chip\": \"E12345\"})"
   ]
  },
  {
   "cell_type": "code",
   "execution_count": 41,
   "metadata": {},
   "outputs": [
    {
     "data": {
      "text/plain": [
       "{'_id': ObjectId('5fe4d7c6717aad418e1d1111'),\n",
       " 'chip': 'E12345',\n",
       " 'lat': '106.123456',\n",
       " 'long': '-6.123456',\n",
       " 'batt': 100,\n",
       " 'vision': 'data:image,base64image'}"
      ]
     },
     "execution_count": 41,
     "metadata": {},
     "output_type": "execute_result"
    }
   ],
   "source": [
    "#read or find\n",
    "devices.find_one({\"chip\": \"E12345\"})"
   ]
  },
  {
   "cell_type": "code",
   "execution_count": null,
   "metadata": {},
   "outputs": [],
   "source": []
  }
 ],
 "metadata": {
  "kernelspec": {
   "display_name": "Python 3",
   "language": "python",
   "name": "python3"
  },
  "language_info": {
   "codemirror_mode": {
    "name": "ipython",
    "version": 3
   },
   "file_extension": ".py",
   "mimetype": "text/x-python",
   "name": "python",
   "nbconvert_exporter": "python",
   "pygments_lexer": "ipython3",
   "version": "3.7.9"
  }
 },
 "nbformat": 4,
 "nbformat_minor": 4
}
