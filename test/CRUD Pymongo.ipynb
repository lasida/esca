{
 "cells": [
  {
   "cell_type": "code",
   "execution_count": 24,
   "metadata": {},
   "outputs": [
    {
     "data": {
      "text/plain": [
       "True"
      ]
     },
     "execution_count": 24,
     "metadata": {},
     "output_type": "execute_result"
    }
   ],
   "source": [
    "#create DB and collection\n",
    "\n",
    "from pymongo import MongoClient\n",
    "MONGO_HOST = \"11a.mongo.evennode.com\" \n",
    "MONGO_DB = \"9c0e953160386036a66c8ea292c47177\"\n",
    "MONGO_USER = \"9c0e953160386036a66c8ea292c47177\"\n",
    "MONGO_PASS = \"lasida123\"\n",
    "\n",
    "connection = MongoClient(MONGO_HOST, 27018)\n",
    "db = connection[MONGO_DB]\n",
    "db.authenticate(MONGO_USER, MONGO_PASS)"
   ]
  },
  {
   "cell_type": "code",
   "execution_count": 25,
   "metadata": {},
   "outputs": [
    {
     "name": "stdout",
     "output_type": "stream",
     "text": [
      "5ffbc5ded49d930fb545147d\n"
     ]
    }
   ],
   "source": [
    "#insert data\n",
    "data = { \"chip\" : \"5421671441\", \"lat\": \"106.123456\", \"long\": \"-6.123456\", \"batt\": 80, \"mode\": \"charge\", \"vision\" : \"data:image,base64image\" }\n",
    "object_ID =  db.devices.insert_one(data).inserted_id\n",
    "print(object_ID);"
   ]
  },
  {
   "cell_type": "code",
   "execution_count": 26,
   "metadata": {},
   "outputs": [
    {
     "data": {
      "text/plain": [
       "0"
      ]
     },
     "execution_count": 26,
     "metadata": {},
     "output_type": "execute_result"
    }
   ],
   "source": [
    "#update data\n",
    "result = db.devices.update_one( {'chip': 'E12345'} , {\"$set\":{\"batt\":300}})\n",
    "result.matched_count\n",
    "# devices.update_many( {\"chip\": \"E12345\"} , {\"$set\":{\"batt\":100}})\n",
    "# devices.replace_one\n"
   ]
  },
  {
   "cell_type": "code",
   "execution_count": 27,
   "metadata": {},
   "outputs": [
    {
     "data": {
      "text/plain": [
       "0"
      ]
     },
     "execution_count": 27,
     "metadata": {},
     "output_type": "execute_result"
    }
   ],
   "source": [
    "#delete data\n",
    "result = db.devices.delete_one({'chip': 'E12345'})\n",
    "result.deleted_count\n",
    "#devices.delete_many({'chip': 'E12345'})"
   ]
  },
  {
   "cell_type": "code",
   "execution_count": 28,
   "metadata": {},
   "outputs": [
    {
     "name": "stdout",
     "output_type": "stream",
     "text": [
      "None\n"
     ]
    }
   ],
   "source": [
    "#read or find\n",
    "result = db.devices.find_one({'chip': 'E12345'})\n",
    "print(result)"
   ]
  },
  {
   "cell_type": "code",
   "execution_count": 29,
   "metadata": {},
   "outputs": [
    {
     "name": "stdout",
     "output_type": "stream",
     "text": [
      "{'_id': ObjectId('5ffbc60dd3cee1c86fa26516'), 'chip': '53265172713', 'coordinate': '-6.12987319,106.2314141', 'maps': 'https://www.google.com/maps/search/-6.12987319,106.2314141', 'battery': '70', 'vision_raw': 'devices/53265172713/20210111/102917-raw.jpg', 'estimation_vision': 'devices/53265172713/20210111/102917-est.jpg', 'estimation_value': 80, 'date': '2021-01-11', 'time': '10:29:17'}\n",
      "{'_id': ObjectId('5ffbc60ed3cee1c86fa26517'), 'chip': '53265172713', 'coordinate': '-6.12987319,106.2314141', 'maps': 'https://www.google.com/maps/search/-6.12987319,106.2314141', 'battery': '70', 'vision_raw': 'devices/53265172713/20210111/102918-raw.jpg', 'estimation_vision': 'devices/53265172713/20210111/102918-est.jpg', 'estimation_value': 80, 'date': '2021-01-11', 'time': '10:29:18'}\n",
      "{'_id': ObjectId('5ffbc60ed3cee1c86fa26518'), 'chip': '53265172713', 'coordinate': '-6.12987319,106.2314141', 'maps': 'https://www.google.com/maps/search/-6.12987319,106.2314141', 'battery': '70', 'vision_raw': 'devices/53265172713/20210111/102918-raw.jpg', 'estimation_vision': 'devices/53265172713/20210111/102918-est.jpg', 'estimation_value': 80, 'date': '2021-01-11', 'time': '10:29:18'}\n"
     ]
    }
   ],
   "source": [
    "cursor = db.devices.find({})\n",
    "for document in cursor:\n",
    "      print(document)"
   ]
  },
  {
   "cell_type": "code",
   "execution_count": null,
   "metadata": {},
   "outputs": [],
   "source": []
  }
 ],
 "metadata": {
  "kernelspec": {
   "display_name": "Python 3",
   "language": "python",
   "name": "python3"
  }
 },
 "nbformat": 4,
 "nbformat_minor": 4
}
