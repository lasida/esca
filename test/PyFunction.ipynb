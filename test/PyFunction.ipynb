{
 "cells": [
  {
   "cell_type": "code",
   "execution_count": 7,
   "metadata": {},
   "outputs": [
    {
     "name": "stdout",
     "output_type": "stream",
     "text": [
      "{'53563265632': 'VCM-01', '53563265633': 'VCM-02'}\n",
      "VCM-01\n"
     ]
    }
   ],
   "source": [
    "device_list = {\n",
    "    '53563265632' : \"VCM-01\",\n",
    "    '53563265633' : \"VCM-02\"\n",
    "}\n",
    "\n",
    "print(device_list)\n",
    "print(device_list['53563265632'])"
   ]
  },
  {
   "cell_type": "code",
   "execution_count": null,
   "metadata": {},
   "outputs": [],
   "source": []
  }
 ],
 "metadata": {
  "kernelspec": {
   "display_name": "Python 3",
   "language": "python",
   "name": "python3"
  },
  "language_info": {
   "codemirror_mode": {
    "name": "ipython",
    "version": 3
   },
   "file_extension": ".py",
   "mimetype": "text/x-python",
   "name": "python",
   "nbconvert_exporter": "python",
   "pygments_lexer": "ipython3",
   "version": "3.7.9"
  }
 },
 "nbformat": 4,
 "nbformat_minor": 4
}
